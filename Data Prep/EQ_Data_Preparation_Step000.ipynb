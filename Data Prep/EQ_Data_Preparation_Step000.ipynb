{
  "cells": [
    {
      "cell_type": "code",
      "execution_count": 12,
      "metadata": {
        "id": "UsxE1EWMoskK"
      },
      "outputs": [],
      "source": [
        "folders_names=[\n",
        "\"Anza_04apr2020_ce23287p\"\n",
        ",\"borregosprings_10jun2016_37374687_ce23287p\"\n",
        ",\"Banning_11Jan2010_CE23287P\"\n",
        ",\"cabazon_08may2018_38167848_ce23287p\"\n",
        ",\"Beaumont_16Jan2010_CE23287P\"\n",
        ",\"calexico_04apr2010_14607652_CE23287P\"\n",
        ",\"BigBearLake_05Jul2014_15520985_ce23287p\"\n",
        ",\"chinohills_29jul2008_ce23287p\"\n",
        ",\"BorregoSprings_07Jul2010_CE23287P\"\n",
        ",\"devore_28apr2012_15141521_ce23287p\"\n",
        ",\"devore_29dec2015_37507576_ce23287p\"\n",
        ",\"Inglewood_17May2009_CE23287P\"\n",
        ",\"fontana_15jan2014_11413954_ce23287p\"\n",
        ",\"LittleLake_06jul2019_ce23287p\"\n",
        ",\"fontana_25jul2015_37213455_ce23287p\"\n",
        ",\"LomaLinda_09may2021_ce23287p\"\n",
        ",\"lahabra_28mar2014_15481673_ce23287p\"\n",
        ",\"LomaLinda_16nov2020_ce23287p\"\n",
        ",\"landers92_ce23287p\"\n",
        ",\"LomaLinda_30jan2019_ce23287p\"\n",
        ",\"laverne_28aug2018_38038071_ce23287p\"\n",
        ",\"Ocotillo_14Jun2010_CE23287P\"\n",
        ",\"lomalinda_04mar2013_15293905_ce23287p\"\n",
        ",\"Redlands_13Feb2010_CE23287P\"\n",
        ",\"lomalinda_08oct2016_37713424_ce23287p\"\n",
        ",\"Redlands_31dec2021_ce23287p\"\n",
        ",\"lomalinda_13mar2017_37828544_ce23287p\"\n",
        ",\"Ridgecrest_04jul2019_ce23287p\"\n",
        ",\"lomalinda_23jun2008_ce23287p\"\n",
        ",\"Ridgecrest_06jul2019_ce23287p\"\n",
        ",\"lomalinda_26feb2013_11249474_ce23287p\"\n",
        ",\"SanBernardino_08Jan2009_CE23287P\"\n",
        ",\"northridge_17jan1994_ce23287p\"\n",
        ",\"SearlesValley_04jun2020_ce23287p\"\n",
        ",\"ontario_20dec2011_15088052_ce23287p\"\n",
        ",\"Trona_06jul2019_ce23287p\"\n",
        ",\"trabucocanyon_25jan2018_38092312_ce23287p\"\n",
        ",\"banning_06jan2016_37510616_ce23287p\"\n",
        ",\"yorbalinda_07aug2012_15189073_ce23287p\"\n",
        ",\"beaumont_14sep2011_11006189_ce23287p\"\n",
        "]"
      ]
    },
    {
      "cell_type": "code",
      "source": [
        "major_folder_path_1 = '/content/drive/MyDrive/NYUAD-Courses/Deep Learning/Project/Data/San Bernardino - 6 - story Hotel/Files Extracted Filtered Moded'\n",
        "major_folder_path_2 = '/content/drive/MyDrive/NYUAD-Courses/Deep Learning/Project/Data/San Bernardino - 6 - story Hotel/Files Extracted Filtered Moded 001'"
      ],
      "metadata": {
        "id": "UWzVhPrFpdZk"
      },
      "execution_count": 13,
      "outputs": []
    },
    {
      "cell_type": "code",
      "source": [
        "folder_name = folders_names[0]"
      ],
      "metadata": {
        "id": "kgTwygyEpi0u"
      },
      "execution_count": 14,
      "outputs": []
    },
    {
      "cell_type": "code",
      "source": [],
      "metadata": {
        "id": "hexTJ4QvowUi"
      },
      "execution_count": 15,
      "outputs": []
    },
    {
      "cell_type": "code",
      "source": [
        "from google.colab import drive\n",
        "drive.mount('/content/drive')"
      ],
      "metadata": {
        "colab": {
          "base_uri": "https://localhost:8080/"
        },
        "id": "p60u9_UboxtL",
        "outputId": "8af335e5-99d1-4374-9cc8-bfe900494d52"
      },
      "execution_count": 16,
      "outputs": [
        {
          "output_type": "stream",
          "name": "stdout",
          "text": [
            "Drive already mounted at /content/drive; to attempt to forcibly remount, call drive.mount(\"/content/drive\", force_remount=True).\n"
          ]
        }
      ]
    },
    {
      "cell_type": "code",
      "execution_count": 24,
      "metadata": {
        "id": "QKDDrmTaoskN"
      },
      "outputs": [],
      "source": [
        "def add_space_before_dash(input_file, output_file):\n",
        "    try:\n",
        "        # Read the content from the input file\n",
        "        with open(input_file, 'r') as file:\n",
        "            lines = file.readlines()\n",
        "\n",
        "        # Modify the content by adding a space before each \"-\"\n",
        "        modified_lines = [line.replace('-', ' -') for line in lines]\n",
        "\n",
        "        # Save the modified content to the output file\n",
        "        with open(output_file, 'w') as file:\n",
        "            file.writelines(modified_lines)\n",
        "\n",
        "        print(f\"File '{input_file}' has been processed. Modified content saved to '{output_file}'.\")\n",
        "\n",
        "    except FileNotFoundError:\n",
        "        print(f\"Error: File '{input_file}' not found.\")"
      ]
    },
    {
      "cell_type": "code",
      "source": [
        "for folder_name in folders_names:\n",
        "  input_file_path = f'{major_folder_path_1}/{folder_name}/CHAN001.V2'\n",
        "  output_file_path = f'{major_folder_path_2}/{folder_name}_M001.V2'\n",
        "  add_space_before_dash(input_file_path, output_file_path)"
      ],
      "metadata": {
        "id": "DVu3KUCnp8t_"
      },
      "execution_count": 23,
      "outputs": []
    }
  ],
  "metadata": {
    "kernelspec": {
      "display_name": "Python 3",
      "language": "python",
      "name": "python3"
    },
    "language_info": {
      "name": "python",
      "version": "3.9.7"
    },
    "colab": {
      "provenance": []
    }
  },
  "nbformat": 4,
  "nbformat_minor": 0
}