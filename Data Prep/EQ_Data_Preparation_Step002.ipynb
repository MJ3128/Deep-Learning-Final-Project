{
  "cells": [
    {
      "cell_type": "code",
      "source": [
        "import pickle\n",
        "import numpy as np\n",
        "\n",
        "def save_object_with_pickle(file_path,file_name,data):\n",
        "    with open(f'{file_path}/{file_name}.pickle', 'wb') as f:\n",
        "        # Pickle the 'data' dictionary using the highest protocol available.\n",
        "        pickle.dump(data, f, pickle.HIGHEST_PROTOCOL)\n",
        "\n",
        "\n",
        "def load_object_with_pickle(file_path,file_name):\n",
        "    with open(f'{file_path}/{file_name}.pickle', 'rb') as f:\n",
        "        data = pickle.load(f)\n",
        "        return data"
      ],
      "metadata": {
        "id": "-IiTqM_0RmWn"
      },
      "execution_count": 1,
      "outputs": []
    },
    {
      "cell_type": "code",
      "source": [
        "major_folder_path_1 = '/content/drive/MyDrive/NYUAD-Courses/Deep Learning/Project/Data/San Bernardino - 6 - story Hotel/Files Extracted Filtered Moded 002'\n",
        "major_folder_path_2 = '/content/drive/MyDrive/NYUAD-Courses/Deep Learning/Project/Data/San Bernardino - 6 - story Hotel/Files Extracted Filtered Moded 002'"
      ],
      "metadata": {
        "id": "UWzVhPrFpdZk"
      },
      "execution_count": 2,
      "outputs": []
    },
    {
      "cell_type": "code",
      "source": [
        "from google.colab import drive\n",
        "drive.mount('/content/drive')"
      ],
      "metadata": {
        "colab": {
          "base_uri": "https://localhost:8080/"
        },
        "id": "p60u9_UboxtL",
        "outputId": "712455f3-548e-4148-daf8-404ffb10e897"
      },
      "execution_count": 3,
      "outputs": [
        {
          "output_type": "stream",
          "name": "stdout",
          "text": [
            "Mounted at /content/drive\n"
          ]
        }
      ]
    },
    {
      "cell_type": "code",
      "source": [
        "class FileData:\n",
        "  def __init__(self,name,acc_index,vel_index,dsp_index,lst_index,dt_acc,dt_vel,dt_dsp,unit_acc,unit_vel,unit_dsp,acc_values,vel_values,dsp_values,dt_sampling,acc_values_sampled,vel_values_sampled,dsp_values_sampled):\n",
        "    self.name = name\n",
        "    self.acc_index = acc_index\n",
        "    self.vel_index = vel_index\n",
        "    self.dsp_index = dsp_index\n",
        "    self.lst_index = lst_index\n",
        "    self.dt_acc = dt_acc\n",
        "    self.dt_vel = dt_vel\n",
        "    self.dt_dsp = dt_dsp\n",
        "    self.unit_acc = unit_acc\n",
        "    self.unit_vel = unit_vel\n",
        "    self.unit_dsp = unit_dsp\n",
        "    self.acc_values = acc_values\n",
        "    self.vel_values = vel_values\n",
        "    self.dsp_values = dsp_values\n",
        "    self.dt_sampling = dt_sampling\n",
        "    self.acc_values_sampled = acc_values_sampled\n",
        "    self.vel_values_sampled = vel_values_sampled\n",
        "    self.dsp_values_sampled = dsp_values_sampled\n",
        "    self.ID = 0"
      ],
      "metadata": {
        "id": "9XNcGe6iLHRd"
      },
      "execution_count": 4,
      "outputs": []
    },
    {
      "cell_type": "code",
      "source": [
        "files_data = load_object_with_pickle(major_folder_path_1,'all_eq_processed_data_ID_mm')"
      ],
      "metadata": {
        "id": "P4a7_XQNnpYt"
      },
      "execution_count": 5,
      "outputs": []
    },
    {
      "cell_type": "code",
      "source": [
        "for file_data in files_data:\n",
        "  file_data.unit_acc = \"m/sec2\"\n",
        "  file_data.unit_vel = \"m/sec\"\n",
        "  file_data.unit_dsp = \"m\"\n",
        "  file_data.acc_values         = file_data.acc_values        /1000\n",
        "  file_data.vel_values         = file_data.vel_values        /1000\n",
        "  file_data.dsp_values         = file_data.dsp_values        /1000\n",
        "  file_data.acc_values_sampled = file_data.acc_values_sampled/1000\n",
        "  file_data.vel_values_sampled = file_data.vel_values_sampled/1000\n",
        "  file_data.dsp_values_sampled = file_data.dsp_values_sampled/1000"
      ],
      "metadata": {
        "id": "8ioH0EypnsIH"
      },
      "execution_count": 6,
      "outputs": []
    },
    {
      "cell_type": "code",
      "source": [
        "save_object_with_pickle(major_folder_path_2,'all_eq_processed_data_ID_m',files_data)"
      ],
      "metadata": {
        "id": "hu2qIR72PunY"
      },
      "execution_count": 7,
      "outputs": []
    }
  ],
  "metadata": {
    "kernelspec": {
      "display_name": "Python 3",
      "language": "python",
      "name": "python3"
    },
    "language_info": {
      "name": "python",
      "version": "3.9.7"
    },
    "colab": {
      "provenance": []
    }
  },
  "nbformat": 4,
  "nbformat_minor": 0
}